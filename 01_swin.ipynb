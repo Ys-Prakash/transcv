{
 "cells": [
  {
   "cell_type": "code",
   "execution_count": null,
   "metadata": {},
   "outputs": [],
   "source": [
    "# default_exp swin"
   ]
  },
  {
   "cell_type": "markdown",
   "metadata": {},
   "source": [
    "# SwinT\n",
    "> Class for creating a [Swin Transformer](https://arxiv.org/pdf/2103.14030v1.pdf) model"
   ]
  },
  {
   "cell_type": "markdown",
   "metadata": {},
   "source": [
    "The SwinT class can be used to create a Swin Transformer model, that can be used with the [fastai](https://docs.fast.ai) library."
   ]
  },
  {
   "cell_type": "code",
   "execution_count": null,
   "metadata": {},
   "outputs": [],
   "source": [
    "#export\n",
    "#hide\n",
    "import timm\n",
    "from nbdev.showdoc import *\n",
    "from fastai.vision.all import *"
   ]
  },
  {
   "cell_type": "code",
   "execution_count": null,
   "metadata": {},
   "outputs": [],
   "source": [
    "#export\n",
    "class SwinT : \n",
    "    \"\"\"Class for setting up a Swin Transformer model. The architecture is specified by `arch`, and the\n",
    "    number of classes is specified by `num_classes`. Returns a pretrained model, by default, or an \n",
    "    initialised model if `pretrained` is set to `False`.\n",
    "    \"\"\"\n",
    "\n",
    "    def __init__ (self, arch, num_classes, pretrained = True) :\n",
    "        self.arch = arch\n",
    "        self.pretrained = pretrained\n",
    "        self.num_classes = num_classes\n",
    "    \n",
    "    def get_model (self) :\n",
    "        \"\"\"Method for getting the Swin Transformer model.\n",
    "        \"\"\"\n",
    "        model_timm = timm.create_model(self.arch, pretrained = self.pretrained, num_classes = self.num_classes)\n",
    "        model = nn.Sequential(model_timm)\n",
    "        return model"
   ]
  },
  {
   "cell_type": "code",
   "execution_count": null,
   "metadata": {},
   "outputs": [
    {
     "data": {
      "text/markdown": [
       "<h4 id=\"SwinT.get_model\" class=\"doc_header\"><code>SwinT.get_model</code><a href=\"__main__.py#L13\" class=\"source_link\" style=\"float:right\">[source]</a></h4>\n",
       "\n",
       "> <code>SwinT.get_model</code>()\n",
       "\n",
       "Method for getting the Swin Transformer model.\n",
       "        "
      ],
      "text/plain": [
       "<IPython.core.display.Markdown object>"
      ]
     },
     "metadata": {},
     "output_type": "display_data"
    }
   ],
   "source": [
    "show_doc(SwinT.get_model)"
   ]
  },
  {
   "cell_type": "markdown",
   "metadata": {},
   "source": [
    "Let's see if this class returns a sequential model :"
   ]
  },
  {
   "cell_type": "code",
   "execution_count": null,
   "metadata": {},
   "outputs": [],
   "source": [
    "swint_ob = SwinT('swin_base_patch4_window7_224', pretrained = False, num_classes = 2)\n",
    "swin_model = swint_ob.get_model()"
   ]
  },
  {
   "cell_type": "code",
   "execution_count": null,
   "metadata": {},
   "outputs": [],
   "source": [
    "assert isinstance(swin_model, nn.Sequential)"
   ]
  },
  {
   "cell_type": "markdown",
   "metadata": {},
   "source": [
    "Now, this model can be used with the [Learner](https://docs.fast.ai/learner.html#Learner) class of [fastai](https://docs.fast.ai), like any other model, with any custom classification dataset."
   ]
  },
  {
   "cell_type": "markdown",
   "metadata": {},
   "source": [
    "Any SwinT architecture, present in the [timm library](https://fastai.github.io/timmdocs/), can be used with transcv."
   ]
  }
 ],
 "metadata": {
  "kernelspec": {
   "display_name": "Python 3.8.10 64-bit",
   "name": "python3"
  }
 },
 "nbformat": 4,
 "nbformat_minor": 2
}
